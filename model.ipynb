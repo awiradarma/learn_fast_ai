{
 "cells": [
  {
   "cell_type": "code",
   "execution_count": 3,
   "id": "a0ffce5f-4329-498c-a8b9-6eab331cd909",
   "metadata": {},
   "outputs": [],
   "source": [
    "def is_cat(x): return x[0].isupper() "
   ]
  },
  {
   "cell_type": "code",
   "execution_count": 4,
   "id": "0e80ffc7-9ccb-43a6-af1e-ae576ecbfa21",
   "metadata": {},
   "outputs": [],
   "source": [
    "from fastbook import load_learner\n",
    "\n",
    "model = load_learner(\"model.pkl\")"
   ]
  },
  {
   "cell_type": "code",
   "execution_count": 5,
   "id": "0d2db847-456c-47d1-a802-8f3241f1fcf5",
   "metadata": {},
   "outputs": [],
   "source": [
    "m = model.model"
   ]
  },
  {
   "cell_type": "code",
   "execution_count": 6,
   "id": "08d1aa52-35dd-45d6-8806-88195dba3dfe",
   "metadata": {},
   "outputs": [
    {
     "data": {
      "text/plain": [
       "Sequential(\n",
       "  (0): Sequential(\n",
       "    (0): Conv2d(3, 64, kernel_size=(7, 7), stride=(2, 2), padding=(3, 3), bias=False)\n",
       "    (1): BatchNorm2d(64, eps=1e-05, momentum=0.1, affine=True, track_running_stats=True)\n",
       "    (2): ReLU(inplace=True)\n",
       "    (3): MaxPool2d(kernel_size=3, stride=2, padding=1, dilation=1, ceil_mode=False)\n",
       "    (4): Sequential(\n",
       "      (0): BasicBlock(\n",
       "        (conv1): Conv2d(64, 64, kernel_size=(3, 3), stride=(1, 1), padding=(1, 1), bias=False)\n",
       "        (bn1): BatchNorm2d(64, eps=1e-05, momentum=0.1, affine=True, track_running_stats=True)\n",
       "        (relu): ReLU(inplace=True)\n",
       "        (conv2): Conv2d(64, 64, kernel_size=(3, 3), stride=(1, 1), padding=(1, 1), bias=False)\n",
       "        (bn2): BatchNorm2d(64, eps=1e-05, momentum=0.1, affine=True, track_running_stats=True)\n",
       "      )\n",
       "      (1): BasicBlock(\n",
       "        (conv1): Conv2d(64, 64, kernel_size=(3, 3), stride=(1, 1), padding=(1, 1), bias=False)\n",
       "        (bn1): BatchNorm2d(64, eps=1e-05, momentum=0.1, affine=True, track_running_stats=True)\n",
       "        (relu): ReLU(inplace=True)\n",
       "        (conv2): Conv2d(64, 64, kernel_size=(3, 3), stride=(1, 1), padding=(1, 1), bias=False)\n",
       "        (bn2): BatchNorm2d(64, eps=1e-05, momentum=0.1, affine=True, track_running_stats=True)\n",
       "      )\n",
       "    )\n",
       "    (5): Sequential(\n",
       "      (0): BasicBlock(\n",
       "        (conv1): Conv2d(64, 128, kernel_size=(3, 3), stride=(2, 2), padding=(1, 1), bias=False)\n",
       "        (bn1): BatchNorm2d(128, eps=1e-05, momentum=0.1, affine=True, track_running_stats=True)\n",
       "        (relu): ReLU(inplace=True)\n",
       "        (conv2): Conv2d(128, 128, kernel_size=(3, 3), stride=(1, 1), padding=(1, 1), bias=False)\n",
       "        (bn2): BatchNorm2d(128, eps=1e-05, momentum=0.1, affine=True, track_running_stats=True)\n",
       "        (downsample): Sequential(\n",
       "          (0): Conv2d(64, 128, kernel_size=(1, 1), stride=(2, 2), bias=False)\n",
       "          (1): BatchNorm2d(128, eps=1e-05, momentum=0.1, affine=True, track_running_stats=True)\n",
       "        )\n",
       "      )\n",
       "      (1): BasicBlock(\n",
       "        (conv1): Conv2d(128, 128, kernel_size=(3, 3), stride=(1, 1), padding=(1, 1), bias=False)\n",
       "        (bn1): BatchNorm2d(128, eps=1e-05, momentum=0.1, affine=True, track_running_stats=True)\n",
       "        (relu): ReLU(inplace=True)\n",
       "        (conv2): Conv2d(128, 128, kernel_size=(3, 3), stride=(1, 1), padding=(1, 1), bias=False)\n",
       "        (bn2): BatchNorm2d(128, eps=1e-05, momentum=0.1, affine=True, track_running_stats=True)\n",
       "      )\n",
       "    )\n",
       "    (6): Sequential(\n",
       "      (0): BasicBlock(\n",
       "        (conv1): Conv2d(128, 256, kernel_size=(3, 3), stride=(2, 2), padding=(1, 1), bias=False)\n",
       "        (bn1): BatchNorm2d(256, eps=1e-05, momentum=0.1, affine=True, track_running_stats=True)\n",
       "        (relu): ReLU(inplace=True)\n",
       "        (conv2): Conv2d(256, 256, kernel_size=(3, 3), stride=(1, 1), padding=(1, 1), bias=False)\n",
       "        (bn2): BatchNorm2d(256, eps=1e-05, momentum=0.1, affine=True, track_running_stats=True)\n",
       "        (downsample): Sequential(\n",
       "          (0): Conv2d(128, 256, kernel_size=(1, 1), stride=(2, 2), bias=False)\n",
       "          (1): BatchNorm2d(256, eps=1e-05, momentum=0.1, affine=True, track_running_stats=True)\n",
       "        )\n",
       "      )\n",
       "      (1): BasicBlock(\n",
       "        (conv1): Conv2d(256, 256, kernel_size=(3, 3), stride=(1, 1), padding=(1, 1), bias=False)\n",
       "        (bn1): BatchNorm2d(256, eps=1e-05, momentum=0.1, affine=True, track_running_stats=True)\n",
       "        (relu): ReLU(inplace=True)\n",
       "        (conv2): Conv2d(256, 256, kernel_size=(3, 3), stride=(1, 1), padding=(1, 1), bias=False)\n",
       "        (bn2): BatchNorm2d(256, eps=1e-05, momentum=0.1, affine=True, track_running_stats=True)\n",
       "      )\n",
       "    )\n",
       "    (7): Sequential(\n",
       "      (0): BasicBlock(\n",
       "        (conv1): Conv2d(256, 512, kernel_size=(3, 3), stride=(2, 2), padding=(1, 1), bias=False)\n",
       "        (bn1): BatchNorm2d(512, eps=1e-05, momentum=0.1, affine=True, track_running_stats=True)\n",
       "        (relu): ReLU(inplace=True)\n",
       "        (conv2): Conv2d(512, 512, kernel_size=(3, 3), stride=(1, 1), padding=(1, 1), bias=False)\n",
       "        (bn2): BatchNorm2d(512, eps=1e-05, momentum=0.1, affine=True, track_running_stats=True)\n",
       "        (downsample): Sequential(\n",
       "          (0): Conv2d(256, 512, kernel_size=(1, 1), stride=(2, 2), bias=False)\n",
       "          (1): BatchNorm2d(512, eps=1e-05, momentum=0.1, affine=True, track_running_stats=True)\n",
       "        )\n",
       "      )\n",
       "      (1): BasicBlock(\n",
       "        (conv1): Conv2d(512, 512, kernel_size=(3, 3), stride=(1, 1), padding=(1, 1), bias=False)\n",
       "        (bn1): BatchNorm2d(512, eps=1e-05, momentum=0.1, affine=True, track_running_stats=True)\n",
       "        (relu): ReLU(inplace=True)\n",
       "        (conv2): Conv2d(512, 512, kernel_size=(3, 3), stride=(1, 1), padding=(1, 1), bias=False)\n",
       "        (bn2): BatchNorm2d(512, eps=1e-05, momentum=0.1, affine=True, track_running_stats=True)\n",
       "      )\n",
       "    )\n",
       "  )\n",
       "  (1): Sequential(\n",
       "    (0): AdaptiveConcatPool2d(\n",
       "      (ap): AdaptiveAvgPool2d(output_size=1)\n",
       "      (mp): AdaptiveMaxPool2d(output_size=1)\n",
       "    )\n",
       "    (1): fastai.layers.Flatten(full=False)\n",
       "    (2): BatchNorm1d(1024, eps=1e-05, momentum=0.1, affine=True, track_running_stats=True)\n",
       "    (3): Dropout(p=0.25, inplace=False)\n",
       "    (4): Linear(in_features=1024, out_features=512, bias=False)\n",
       "    (5): ReLU(inplace=True)\n",
       "    (6): BatchNorm1d(512, eps=1e-05, momentum=0.1, affine=True, track_running_stats=True)\n",
       "    (7): Dropout(p=0.5, inplace=False)\n",
       "    (8): Linear(in_features=512, out_features=2, bias=False)\n",
       "  )\n",
       ")"
      ]
     },
     "execution_count": 6,
     "metadata": {},
     "output_type": "execute_result"
    }
   ],
   "source": [
    "m"
   ]
  },
  {
   "cell_type": "code",
   "execution_count": 11,
   "id": "735536a0-6b96-4060-ab23-dbb0bbe1634a",
   "metadata": {},
   "outputs": [],
   "source": [
    "l = m.get_submodule('0.0')"
   ]
  },
  {
   "cell_type": "code",
   "execution_count": 13,
   "id": "6e0bc277-3eb3-4645-afd7-49d47ef80559",
   "metadata": {},
   "outputs": [
    {
     "data": {
      "text/plain": [
       "[Parameter containing:\n",
       " tensor([[[[-1.0456e-02, -6.1439e-03, -1.8029e-03,  ...,  5.6601e-02,  1.7052e-02, -1.2715e-02],\n",
       "           [ 1.1070e-02,  9.5225e-03, -1.0993e-01,  ..., -2.7127e-01, -1.2912e-01,  3.7194e-03],\n",
       "           [-6.9469e-03,  5.9071e-02,  2.9544e-01,  ...,  5.1967e-01,  2.5625e-01,  6.3523e-02],\n",
       "           ...,\n",
       "           [-2.7556e-02,  1.5988e-02,  7.2536e-02,  ..., -3.3288e-01, -4.2064e-01, -2.5789e-01],\n",
       "           [ 3.0584e-02,  4.0905e-02,  6.2781e-02,  ...,  4.1378e-01,  3.9351e-01,  1.6599e-01],\n",
       "           [-1.3784e-02, -3.7397e-03, -2.4160e-02,  ..., -1.5076e-01, -8.2304e-02, -5.8759e-03]],\n",
       " \n",
       "          [[-1.1380e-02, -2.6578e-02, -3.4584e-02,  ...,  3.2549e-02,  6.7062e-04, -2.5727e-02],\n",
       "           [ 4.5715e-02,  3.3636e-02, -1.0449e-01,  ..., -3.1251e-01, -1.6051e-01, -1.2796e-03],\n",
       "           [-8.0626e-04,  9.8432e-02,  4.0210e-01,  ...,  7.0789e-01,  3.6883e-01,  1.2453e-01],\n",
       "           ...,\n",
       "           [-5.5921e-02, -5.2528e-03,  2.7060e-02,  ..., -4.6177e-01, -5.7082e-01, -3.6557e-01],\n",
       "           [ 3.2864e-02,  5.5550e-02,  9.9641e-02,  ...,  5.4634e-01,  4.8272e-01,  1.9863e-01],\n",
       "           [ 5.2788e-03,  6.6561e-03, -1.7293e-02,  ..., -1.4825e-01, -7.7299e-02,  6.5348e-04]],\n",
       " \n",
       "          [[-1.9575e-03, -9.0574e-03,  2.1337e-02,  ...,  8.9272e-02,  3.3717e-02, -2.0032e-02],\n",
       "           [ 1.5488e-02, -1.8546e-02, -1.2579e-01,  ..., -2.5333e-01, -1.2974e-01, -2.7922e-02],\n",
       "           [ 9.9478e-03,  4.9134e-02,  2.1707e-01,  ...,  3.4880e-01,  1.0437e-01,  1.8442e-02],\n",
       "           ...,\n",
       "           [-2.8289e-02,  1.8445e-02,  9.8707e-02,  ..., -1.1730e-01, -2.5755e-01, -1.5448e-01],\n",
       "           [ 2.0827e-02, -2.5822e-03, -3.7767e-02,  ...,  2.4149e-01,  2.4349e-01,  1.1798e-01],\n",
       "           [ 7.9024e-04,  8.1925e-04, -9.9964e-03,  ..., -1.4859e-01, -1.1750e-01, -3.8348e-02]]],\n",
       " \n",
       " \n",
       "         [[[-4.4142e-03, -4.0411e-03,  3.1751e-03,  ..., -3.7017e-02, -2.5172e-02, -4.7974e-02],\n",
       "           [ 5.1310e-02,  5.3420e-02,  8.0437e-02,  ...,  1.4478e-01,  1.4284e-01,  1.2307e-01],\n",
       "           [-7.3426e-03,  2.2004e-03,  3.7592e-02,  ...,  6.1499e-02,  8.0285e-02,  1.1710e-01],\n",
       "           ...,\n",
       "           [-2.6751e-02, -1.2295e-01, -1.3654e-01,  ..., -1.4073e-01, -1.1163e-01, -4.9598e-02],\n",
       "           [ 2.3542e-02, -1.7260e-02, -1.1116e-02,  ..., -1.8869e-02, -2.3357e-02, -2.9486e-02],\n",
       "           [ 2.8710e-02,  2.1679e-02,  4.7864e-02,  ...,  2.5447e-02,  3.5310e-02,  1.1255e-02]],\n",
       " \n",
       "          [[ 4.1270e-04,  1.2105e-02,  4.1984e-02,  ...,  4.6353e-02,  4.0339e-02, -1.4532e-02],\n",
       "           [ 4.3422e-02,  6.8750e-02,  1.3263e-01,  ...,  2.8599e-01,  2.6897e-01,  2.0925e-01],\n",
       "           [-5.7667e-02, -2.2658e-02,  3.0516e-02,  ...,  1.3756e-01,  1.6528e-01,  1.7936e-01],\n",
       "           ...,\n",
       "           [-1.0820e-01, -2.5229e-01, -2.9748e-01,  ..., -2.8513e-01, -2.1506e-01, -1.0330e-01],\n",
       "           [ 4.0693e-02, -3.2780e-02, -6.3484e-02,  ..., -9.2440e-02, -6.9967e-02, -4.9917e-02],\n",
       "           [ 8.2930e-02,  8.7559e-02,  1.0104e-01,  ...,  5.2623e-02,  6.0870e-02,  4.1103e-02]],\n",
       " \n",
       "          [[-1.6435e-02, -1.3903e-02,  5.2399e-03,  ...,  4.3646e-02,  2.2618e-02, -4.6081e-02],\n",
       "           [ 3.3164e-02,  4.1991e-02,  9.3457e-02,  ...,  2.6154e-01,  2.2960e-01,  1.6682e-01],\n",
       "           [-4.6030e-02, -1.6387e-02,  2.6778e-02,  ...,  1.4944e-01,  1.3206e-01,  1.3567e-01],\n",
       "           ...,\n",
       "           [-7.2161e-02, -1.8905e-01, -2.3395e-01,  ..., -1.9047e-01, -1.5622e-01, -7.6086e-02],\n",
       "           [ 5.1146e-02, -2.5834e-02, -6.9394e-02,  ..., -5.9073e-02, -6.1641e-02, -4.4642e-02],\n",
       "           [ 1.1173e-01,  7.8959e-02,  6.5784e-02,  ...,  3.1533e-02,  2.5125e-02,  7.3213e-03]]],\n",
       " \n",
       " \n",
       "         [[[-7.0824e-08, -6.4305e-08, -7.3805e-08,  ..., -9.7998e-08, -1.0904e-07, -8.3420e-08],\n",
       "           [-6.1124e-09,  2.0612e-09, -8.0921e-09,  ..., -4.9840e-08, -4.3835e-08, -3.0537e-09],\n",
       "           [ 7.1952e-08,  7.5615e-08,  5.9281e-08,  ..., -9.7507e-09, -1.0951e-09,  4.2442e-08],\n",
       "           ...,\n",
       "           [ 9.5887e-08,  1.0039e-07,  7.9816e-08,  ..., -1.7490e-08, -4.7665e-08, -1.3265e-08],\n",
       "           [ 1.2904e-07,  1.4761e-07,  1.7476e-07,  ...,  1.3232e-07,  1.0628e-07,  9.3314e-08],\n",
       "           [ 1.2558e-07,  1.3644e-07,  1.8431e-07,  ...,  2.1398e-07,  1.7709e-07,  1.7166e-07]],\n",
       " \n",
       "          [[-1.2690e-07, -9.6137e-08, -1.0372e-07,  ..., -1.1808e-07, -1.3309e-07, -1.0819e-07],\n",
       "           [-5.7412e-08, -2.5054e-08, -3.0114e-08,  ..., -7.2921e-08, -6.7021e-08, -2.2574e-08],\n",
       "           [ 2.1813e-08,  4.8608e-08,  3.1221e-08,  ..., -1.8694e-08, -7.9589e-09,  3.9749e-08],\n",
       "           ...,\n",
       "           [ 5.6012e-08,  7.5524e-08,  4.4495e-08,  ..., -4.4127e-08, -5.9929e-08, -1.8247e-08],\n",
       "           [ 7.7612e-08,  9.8346e-08,  1.0455e-07,  ...,  6.3270e-08,  4.1780e-08,  4.5900e-08],\n",
       "           [ 5.9832e-08,  7.1005e-08,  9.0435e-08,  ...,  1.1654e-07,  8.7549e-08,  9.8835e-08]],\n",
       " \n",
       "          [[-4.3809e-08,  1.3270e-08,  7.8274e-09,  ..., -5.8803e-09, -2.6217e-08, -1.5649e-08],\n",
       "           [ 4.1699e-08,  1.0777e-07,  1.0946e-07,  ...,  7.6402e-08,  7.1449e-08,  9.7613e-08],\n",
       "           [ 1.0436e-07,  1.6585e-07,  1.5933e-07,  ...,  1.3517e-07,  1.3487e-07,  1.6448e-07],\n",
       "           ...,\n",
       "           [ 9.8762e-08,  1.5072e-07,  1.2546e-07,  ...,  6.8314e-08,  6.8381e-08,  1.1367e-07],\n",
       "           [ 9.1433e-08,  1.3576e-07,  1.3793e-07,  ...,  1.1678e-07,  1.1723e-07,  1.4394e-07],\n",
       "           [ 6.2181e-08,  8.8183e-08,  1.0456e-07,  ...,  1.3941e-07,  1.3332e-07,  1.5844e-07]]],\n",
       " \n",
       " \n",
       "         ...,\n",
       " \n",
       " \n",
       "         [[[-6.1857e-02, -3.0188e-02,  1.9275e-02,  ...,  4.3626e-02, -2.2085e-02, -4.2142e-02],\n",
       "           [-3.8061e-02,  6.0616e-03,  4.5807e-02,  ...,  9.5958e-02,  5.9214e-02,  2.9959e-02],\n",
       "           [-2.9658e-02,  2.7857e-03,  2.0490e-02,  ...,  5.9784e-02,  4.1388e-02,  2.3102e-02],\n",
       "           ...,\n",
       "           [ 1.1921e-02,  4.5696e-02,  4.4839e-02,  ...,  4.7310e-02,  2.2261e-02, -5.4438e-03],\n",
       "           [-3.2435e-02, -1.2190e-02,  2.2042e-02,  ...,  5.7999e-02, -7.5272e-03, -5.9687e-02],\n",
       "           [-4.3235e-02, -2.8078e-02, -5.8528e-03,  ...,  8.8450e-02,  8.4702e-03, -4.9973e-02]],\n",
       " \n",
       "          [[-6.1219e-02, -1.3935e-02,  1.7342e-02,  ...,  1.8395e-02, -3.2581e-02, -4.0885e-02],\n",
       "           [-3.1462e-02,  2.4494e-02,  4.5586e-02,  ...,  6.6824e-02,  4.6743e-02,  3.3352e-02],\n",
       "           [-3.2178e-02,  2.0768e-02,  2.3435e-02,  ...,  3.5328e-02,  3.6536e-02,  3.1359e-02],\n",
       "           ...,\n",
       "           [ 1.7794e-02,  6.1103e-02,  4.8262e-02,  ...,  3.7756e-02,  2.8988e-02,  1.4176e-02],\n",
       "           [-1.0820e-02,  2.2162e-02,  4.2817e-02,  ...,  6.0276e-02,  1.6315e-02, -1.2317e-02],\n",
       "           [-2.2187e-02,  1.3328e-02,  3.0984e-02,  ...,  1.0409e-01,  4.0236e-02, -5.1900e-03]],\n",
       " \n",
       "          [[-8.5228e-02, -4.2491e-02,  6.9557e-03,  ...,  3.0847e-02, -3.4667e-02, -4.9779e-02],\n",
       "           [-2.9135e-02,  1.8251e-02,  5.1181e-02,  ...,  9.0273e-02,  5.3531e-02,  4.0273e-02],\n",
       "           [-3.9868e-02, -1.0286e-03,  9.6987e-03,  ...,  2.4207e-02,  2.6385e-02,  2.5563e-02],\n",
       "           ...,\n",
       "           [-3.1567e-03,  3.0513e-02,  1.6344e-02,  ...,  5.5104e-03, -6.2106e-03, -8.3433e-03],\n",
       "           [-2.2946e-02, -2.7489e-03,  2.3284e-02,  ...,  3.5910e-02, -1.4238e-02, -3.2301e-02],\n",
       "           [-9.8171e-03,  7.1352e-03,  1.0734e-02,  ...,  7.0541e-02,  1.3079e-02, -8.2447e-03]]],\n",
       " \n",
       " \n",
       "         [[[-7.8327e-03,  1.9949e-02,  3.4248e-02,  ...,  2.8689e-02,  1.2801e-02,  1.8092e-02],\n",
       "           [ 8.9082e-03, -3.2764e-02, -3.5618e-02,  ...,  7.2544e-02,  4.5875e-02,  5.2346e-02],\n",
       "           [-3.6057e-02, -1.1869e-01, -1.3761e-01,  ...,  3.3812e-02,  3.7810e-02,  2.6924e-02],\n",
       "           ...,\n",
       "           [ 1.7357e-02,  3.9764e-03, -8.2317e-03,  ...,  2.7622e-03,  1.8325e-02,  1.6049e-02],\n",
       "           [-9.4019e-04,  1.6442e-02,  1.7148e-02,  ...,  3.3755e-03,  2.2875e-02,  7.0063e-04],\n",
       "           [ 6.1562e-03,  2.7153e-02,  1.4324e-02,  ...,  7.5913e-03,  1.8773e-02,  1.5687e-02]],\n",
       " \n",
       "          [[-1.3377e-02, -4.5203e-04,  8.1458e-03,  ..., -6.1037e-03,  9.2087e-03,  1.5684e-02],\n",
       "           [-1.8148e-02, -6.7725e-02, -7.0524e-02,  ...,  2.9862e-02,  2.6235e-02,  2.3717e-02],\n",
       "           [-5.4173e-02, -1.4632e-01, -1.6193e-01,  ...,  1.1769e-02,  3.2456e-02,  1.1944e-02],\n",
       "           ...,\n",
       "           [ 8.7316e-04, -1.7513e-02, -1.9510e-02,  ..., -4.1520e-03,  2.4634e-02,  1.2839e-02],\n",
       "           [-6.2002e-04,  1.1802e-02,  2.4793e-02,  ...,  6.0733e-03,  3.9184e-02,  9.6699e-03],\n",
       "           [-7.1964e-03,  6.6952e-03,  5.2307e-03,  ..., -7.6464e-03,  2.7212e-02,  1.7752e-02]],\n",
       " \n",
       "          [[-2.7531e-04, -5.0034e-03,  2.1835e-03,  ..., -4.8064e-02, -2.6261e-02, -2.3649e-02],\n",
       "           [-2.6314e-04, -5.1409e-02, -6.0035e-02,  ..., -1.7482e-02, -2.3467e-02, -3.7448e-02],\n",
       "           [-2.2664e-02, -9.9320e-02, -1.1188e-01,  ..., -1.1864e-02, -8.5058e-03, -4.0727e-02],\n",
       "           ...,\n",
       "           [ 1.1332e-02, -8.1634e-03, -1.6639e-03,  ..., -3.4281e-02, -8.8655e-03, -2.3676e-02],\n",
       "           [ 2.8712e-03,  5.7908e-04,  1.9795e-02,  ..., -2.2145e-02,  1.4693e-02, -1.4583e-02],\n",
       "           [-1.9188e-02, -2.9511e-02, -2.3432e-02,  ..., -4.8735e-02, -1.3190e-02, -2.4448e-02]]],\n",
       " \n",
       " \n",
       "         [[[-3.6293e-02,  7.2446e-03,  1.9131e-02,  ...,  1.9610e-02,  1.4886e-02, -1.7285e-02],\n",
       "           [-1.1053e-02,  8.5700e-02,  1.2670e-01,  ...,  1.3733e-02, -5.5194e-05, -3.0164e-02],\n",
       "           [ 1.1321e-01,  1.8635e-01,  5.0658e-02,  ..., -1.7333e-01, -7.2036e-02, -6.2472e-02],\n",
       "           ...,\n",
       "           [-5.3074e-02, -2.5780e-01, -2.6746e-01,  ...,  2.6780e-01,  1.4344e-01,  5.5131e-02],\n",
       "           [-2.1035e-02, -2.9977e-02,  1.0245e-01,  ...,  2.0843e-01, -4.1290e-03, -3.8117e-02],\n",
       "           [-2.2205e-02,  1.2354e-02,  8.4299e-02,  ..., -4.4966e-02, -1.4684e-01, -9.0876e-02]],\n",
       " \n",
       "          [[-5.3532e-03,  3.2894e-02,  1.5568e-02,  ..., -7.6865e-03,  3.0902e-03,  1.1843e-03],\n",
       "           [ 6.1764e-02,  1.4906e-01,  1.4652e-01,  ..., -2.8859e-02, -2.0176e-02, -9.1483e-03],\n",
       "           [ 1.6147e-01,  2.0891e-01, -2.5541e-02,  ..., -2.7274e-01, -1.0731e-01, -6.2935e-02],\n",
       "           ...,\n",
       "           [-1.3721e-01, -4.0860e-01, -3.8547e-01,  ...,  4.0851e-01,  2.6206e-01,  1.3494e-01],\n",
       "           [-5.9402e-02, -6.1176e-02,  1.4199e-01,  ...,  3.5783e-01,  9.0943e-02, -1.7088e-03],\n",
       "           [ 7.8079e-03,  5.8387e-02,  1.5341e-01,  ...,  4.7089e-02, -1.0089e-01, -9.7876e-02]],\n",
       " \n",
       "          [[-5.5812e-03,  1.3569e-02, -2.6325e-02,  ...,  4.6005e-03,  2.1800e-03,  1.4016e-02],\n",
       "           [ 6.6846e-03,  4.5307e-02,  6.0390e-02,  ...,  1.4462e-02, -4.9736e-03,  4.1492e-03],\n",
       "           [ 5.5325e-02,  1.2407e-01,  4.3293e-02,  ..., -1.4477e-01, -7.4395e-02, -5.7440e-02],\n",
       "           ...,\n",
       "           [-3.1455e-02, -1.6327e-01, -1.5787e-01,  ...,  2.2914e-01,  1.2027e-01,  7.2086e-02],\n",
       "           [-1.0430e-02, -1.0763e-03,  8.4649e-02,  ...,  1.5757e-01,  2.2249e-02, -9.9910e-03],\n",
       "           [-4.8775e-03, -4.9871e-03,  3.6401e-02,  ..., -2.4269e-02, -7.1079e-02, -6.6683e-02]]]], requires_grad=True)]"
      ]
     },
     "execution_count": 13,
     "metadata": {},
     "output_type": "execute_result"
    }
   ],
   "source": [
    "list(l.parameters())"
   ]
  },
  {
   "cell_type": "code",
   "execution_count": 15,
   "id": "6e8c5b89-79e8-48cd-a589-d413554e80c6",
   "metadata": {},
   "outputs": [
    {
     "data": {
      "image/png": "[encoded data removed]",
      "text/plain": [
       "<Figure size 576x432 with 1 Axes>"
      ]
     },
     "metadata": {},
     "output_type": "display_data"
    }
   ],
   "source": [
    "from ipywidgets import interact\n",
    "from fastai.basics import *\n",
    "\n",
    "plt.rc('figure', dpi=90)\n",
    "\n",
    "def plot_function(f, title=None, min=-2.1, max=2.1, color='r', ylim=None):\n",
    "    x = torch.linspace(min,max, 100)[:,None]\n",
    "    if ylim: plt.ylim(ylim)\n",
    "    plt.plot(x, f(x), color)\n",
    "    if title is not None: plt.title(title)\n",
    "        \n",
    "def f(x): return 3*x**2 + 2*x + 1\n",
    "\n",
    "plot_function(f, \"$3x^2 + 2x + 1$\")"
   ]
  },
  {
   "cell_type": "code",
   "execution_count": 16,
   "id": "edd0c96e-3d58-4139-9e74-965ca6a5cb0d",
   "metadata": {},
   "outputs": [],
   "source": [
    "def quad(a, b, c, x): return a*x**2 + b*x + c"
   ]
  },
  {
   "cell_type": "code",
   "execution_count": 17,
   "id": "ee5e0ceb-8a0e-4530-981a-da31b59052c3",
   "metadata": {},
   "outputs": [],
   "source": [
    "def mk_quad(a,b,c): return partial(quad, a,b,c)"
   ]
  },
  {
   "cell_type": "code",
   "execution_count": 18,
   "id": "c6956b54-13a9-4d26-b504-7899329ced9a",
   "metadata": {},
   "outputs": [
    {
     "data": {
      "image/png": "[encoded data removed]",
      "text/plain": [
       "<Figure size 576x432 with 1 Axes>"
      ]
     },
     "metadata": {},
     "output_type": "display_data"
    }
   ],
   "source": [
    "f2 = mk_quad(3,2,1)\n",
    "plot_function(f2)"
   ]
  },
  {
   "cell_type": "code",
   "execution_count": 19,
   "id": "0ac053f7-744c-4fd0-b551-0215f90fb8aa",
   "metadata": {},
   "outputs": [],
   "source": [
    "def noise(x, scale): return np.random.normal(scale=scale, size=x.shape)\n",
    "def add_noise(x, mult, add): return x * (1+noise(x,mult)) + noise(x,add)"
   ]
  },
  {
   "cell_type": "code",
   "execution_count": 20,
   "id": "bfc1c625-648a-46ba-9f88-e736f2cce2cd",
   "metadata": {},
   "outputs": [],
   "source": [
    "np.random.seed(42)\n",
    "\n",
    "x = torch.linspace(-2, 2, steps=20)[:,None]\n",
    "y = add_noise(f(x), 0.15, 1.5)"
   ]
  },
  {
   "cell_type": "code",
   "execution_count": 21,
   "id": "61e717a6-2b35-406e-857f-d38ff5d0c3be",
   "metadata": {},
   "outputs": [
    {
     "data": {
      "image/png": "[encoded data removed]",
      "text/plain": [
       "<Figure size 576x432 with 1 Axes>"
      ]
     },
     "metadata": {},
     "output_type": "display_data"
    }
   ],
   "source": [
    "plt.scatter(x,y);"
   ]
  },
  {
   "cell_type": "code",
   "execution_count": 22,
   "id": "84ca2701-b10f-409b-b356-e6e240a648b7",
   "metadata": {},
   "outputs": [
    {
     "data": {
      "application/vnd.jupyter.widget-view+json": {
       "model_id": "60470fbe1e4644ab83bd1c5db24b6597",
       "version_major": 2,
       "version_minor": 0
      },
      "text/plain": [
       "interactive(children=(FloatSlider(value=1.1, description='a', max=3.3000000000000003, min=-1.1), FloatSlider(v…"
      ]
     },
     "metadata": {},
     "output_type": "display_data"
    }
   ],
   "source": [
    "@interact(a=1.1, b=1.1, c=1.1)\n",
    "def plot_quad(a, b, c):\n",
    "    plt.scatter(x,y)\n",
    "    plot_function(mk_quad(a,b,c), ylim=(-3,13))"
   ]
  },
  {
   "cell_type": "code",
   "execution_count": 23,
   "id": "e78f2c41-0622-44c6-9248-48daff499889",
   "metadata": {},
   "outputs": [],
   "source": [
    "def mae(preds, acts): return (torch.abs(preds-acts)).mean()"
   ]
  },
  {
   "cell_type": "code",
   "execution_count": 24,
   "id": "12601614-9aec-4704-bc64-718c3c9404e0",
   "metadata": {},
   "outputs": [
    {
     "data": {
      "application/vnd.jupyter.widget-view+json": {
       "model_id": "c191cdccb7b74f83a50066e5b0961081",
       "version_major": 2,
       "version_minor": 0
      },
      "text/plain": [
       "interactive(children=(FloatSlider(value=1.1, description='a', max=3.3000000000000003, min=-1.1), FloatSlider(v…"
      ]
     },
     "metadata": {},
     "output_type": "display_data"
    }
   ],
   "source": [
    "@interact(a=1.1, b=1.1, c=1.1)\n",
    "def plot_quad(a, b, c):\n",
    "    f = mk_quad(a,b,c)\n",
    "    plt.scatter(x,y)\n",
    "    loss = mae(f(x), y)\n",
    "    plot_function(f, ylim=(-3,12), title=f\"MAE: {loss:.2f}\")"
   ]
  },
  {
   "cell_type": "code",
   "execution_count": 25,
   "id": "ab0294fe-bd01-4e81-843b-d6a32abd65a0",
   "metadata": {},
   "outputs": [],
   "source": [
    "def quad_mae(params):\n",
    "    f = mk_quad(*params)\n",
    "    return mae(f(x), y)"
   ]
  },
  {
   "cell_type": "code",
   "execution_count": 42,
   "id": "4661a54d-32d6-4b23-b2d7-02445701551a",
   "metadata": {},
   "outputs": [
    {
     "data": {
      "text/plain": [
       "tensor(2.4219, dtype=torch.float64)"
      ]
     },
     "execution_count": 42,
     "metadata": {},
     "output_type": "execute_result"
    }
   ],
   "source": [
    "quad_mae([1.1, 1.1, 1.1])"
   ]
  },
  {
   "cell_type": "code",
   "execution_count": 43,
   "id": "b8672666-2a43-4841-8137-6e5a7b035989",
   "metadata": {},
   "outputs": [],
   "source": [
    "abc = torch.tensor([1.1,1.1,1.1])"
   ]
  },
  {
   "cell_type": "code",
   "execution_count": 44,
   "id": "f7239b0f-2e90-4803-b17f-85b2429d074a",
   "metadata": {},
   "outputs": [
    {
     "data": {
      "text/plain": [
       "tensor([1.1000, 1.1000, 1.1000], requires_grad=True)"
      ]
     },
     "execution_count": 44,
     "metadata": {},
     "output_type": "execute_result"
    }
   ],
   "source": [
    "abc.requires_grad_()"
   ]
  },
  {
   "cell_type": "code",
   "execution_count": 45,
   "id": "2cfd7989-ff03-4600-9b11-aa9fc4308438",
   "metadata": {},
   "outputs": [
    {
     "data": {
      "text/plain": [
       "tensor(2.4219, dtype=torch.float64, grad_fn=<MeanBackward0>)"
      ]
     },
     "execution_count": 45,
     "metadata": {},
     "output_type": "execute_result"
    }
   ],
   "source": [
    "loss = quad_mae(abc)\n",
    "loss"
   ]
  },
  {
   "cell_type": "code",
   "execution_count": 46,
   "id": "ea991ff2-9f1f-4682-b24c-6f1304cb6ff0",
   "metadata": {},
   "outputs": [],
   "source": [
    "loss.backward()"
   ]
  },
  {
   "cell_type": "code",
   "execution_count": 47,
   "id": "450207f4-f25e-458c-8374-806dac442207",
   "metadata": {},
   "outputs": [
    {
     "data": {
      "text/plain": [
       "tensor([-1.3529, -0.0316, -0.5000])"
      ]
     },
     "execution_count": 47,
     "metadata": {},
     "output_type": "execute_result"
    }
   ],
   "source": [
    "abc.grad"
   ]
  },
  {
   "cell_type": "code",
   "execution_count": 48,
   "id": "80c689aa-7c06-42c2-871f-3180e3c1a487",
   "metadata": {},
   "outputs": [
    {
     "name": "stdout",
     "output_type": "stream",
     "text": [
      "loss=2.40\n"
     ]
    }
   ],
   "source": [
    "with torch.no_grad():\n",
    "    abc -= abc.grad*0.01\n",
    "    loss = quad_mae(abc)\n",
    "    \n",
    "print(f'loss={loss:.2f}')"
   ]
  },
  {
   "cell_type": "code",
   "execution_count": 49,
   "id": "8d4d50a8-0939-47e8-9abf-dd17fceb4cca",
   "metadata": {},
   "outputs": [
    {
     "name": "stdout",
     "output_type": "stream",
     "text": [
      "step=0; loss=2.40\n",
      "step=1; loss=2.36\n",
      "step=2; loss=2.30\n",
      "step=3; loss=2.21\n",
      "step=4; loss=2.11\n",
      "step=5; loss=1.98\n",
      "step=6; loss=1.85\n",
      "step=7; loss=1.72\n",
      "step=8; loss=1.58\n",
      "step=9; loss=1.46\n",
      "step=10; loss=1.35\n",
      "step=11; loss=1.22\n"
     ]
    }
   ],
   "source": [
    "for i in range(12):\n",
    "    loss = quad_mae(abc)\n",
    "    loss.backward()\n",
    "    with torch.no_grad(): abc -= abc.grad*0.01\n",
    "    print(f'step={i}; loss={loss:.2f}')"
   ]
  },
  {
   "cell_type": "code",
   "execution_count": 50,
   "id": "7294de65-62e5-41c3-963a-9a0af8ffb0dc",
   "metadata": {},
   "outputs": [
    {
     "data": {
      "text/plain": [
       "tensor([2.2558, 1.1682, 1.5020], requires_grad=True)"
      ]
     },
     "execution_count": 50,
     "metadata": {},
     "output_type": "execute_result"
    }
   ],
   "source": [
    "abc"
   ]
  },
  {
   "cell_type": "code",
   "execution_count": null,
   "id": "4f7110f9-cf0c-470d-8ea5-e0312189d1fd",
   "metadata": {},
   "outputs": [],
   "source": []
  }
 ],
 "metadata": {
  "kernelspec": {
   "display_name": "Python 3 (ipykernel)",
   "language": "python",
   "name": "python3"
  },
  "language_info": {
   "codemirror_mode": {
    "name": "ipython",
    "version": 3
   },
   "file_extension": ".py",
   "mimetype": "text/x-python",
   "name": "python",
   "nbconvert_exporter": "python",
   "pygments_lexer": "ipython3",
   "version": "3.12.3"
  }
 },
 "nbformat": 4,
 "nbformat_minor": 5
}
